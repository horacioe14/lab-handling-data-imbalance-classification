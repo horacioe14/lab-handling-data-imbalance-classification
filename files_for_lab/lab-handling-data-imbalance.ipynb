{
 "cells": [
  {
   "cell_type": "markdown",
   "metadata": {},
   "source": [
    "### EDA"
   ]
  },
  {
   "cell_type": "code",
   "execution_count": 1,
   "metadata": {},
   "outputs": [],
   "source": [
    "#  Scale the features either by using normalizer or a standard scaler.\n",
    "# Split the data into a training set and a test set.\n",
    "# Fit a logistic regression model on the training data.\n",
    "# Check the accuracy on the test data.\n",
    "# Note: So far we have not balanced the data.\n",
    "\n",
    "# Managing imbalance in the dataset\n",
    "\n",
    "# Check for the imbalance.\n",
    "# Use the resampling strategies used in class for upsampling and downsampling to create a balance between the two classes.\n",
    "# Each time fit the model and see how the accuracy of the model is."
   ]
  },
  {
   "cell_type": "code",
   "execution_count": 5,
   "metadata": {},
   "outputs": [],
   "source": [
    "import pandas as pd\n",
    "import numpy as np\n",
    "from sklearn.preprocessing import StandardScaler\n",
    "from sklearn.model_selection import train_test_split\n",
    "from sklearn.linear_model import LogisticRegression\n",
    "from sklearn.metrics import  accuracy_score\n",
    "from imblearn.over_sampling import SMOTE\n",
    "from imblearn.under_sampling import TomekLinks\n",
    "from sklearn.tree import DecisionTreeClassifier\n",
    "\n",
    "import warnings\n",
    "\n",
    "warnings.filterwarnings('ignore')"
   ]
  },
  {
   "cell_type": "code",
   "execution_count": 6,
   "metadata": {
    "scrolled": true
   },
   "outputs": [],
   "source": [
    "churndata = pd.read_csv('Customer-Churn.csv')"
   ]
  },
  {
   "cell_type": "code",
   "execution_count": 7,
   "metadata": {},
   "outputs": [
    {
     "data": {
      "text/plain": [
       "(7043, 16)"
      ]
     },
     "execution_count": 7,
     "metadata": {},
     "output_type": "execute_result"
    }
   ],
   "source": [
    "churndata.shape"
   ]
  },
  {
   "cell_type": "code",
   "execution_count": 8,
   "metadata": {},
   "outputs": [
    {
     "data": {
      "text/html": [
       "<div>\n",
       "<style scoped>\n",
       "    .dataframe tbody tr th:only-of-type {\n",
       "        vertical-align: middle;\n",
       "    }\n",
       "\n",
       "    .dataframe tbody tr th {\n",
       "        vertical-align: top;\n",
       "    }\n",
       "\n",
       "    .dataframe thead th {\n",
       "        text-align: right;\n",
       "    }\n",
       "</style>\n",
       "<table border=\"1\" class=\"dataframe\">\n",
       "  <thead>\n",
       "    <tr style=\"text-align: right;\">\n",
       "      <th></th>\n",
       "      <th>SeniorCitizen</th>\n",
       "      <th>tenure</th>\n",
       "      <th>MonthlyCharges</th>\n",
       "    </tr>\n",
       "  </thead>\n",
       "  <tbody>\n",
       "    <tr>\n",
       "      <th>count</th>\n",
       "      <td>7043.000000</td>\n",
       "      <td>7043.000000</td>\n",
       "      <td>7043.000000</td>\n",
       "    </tr>\n",
       "    <tr>\n",
       "      <th>mean</th>\n",
       "      <td>0.162147</td>\n",
       "      <td>32.371149</td>\n",
       "      <td>64.761692</td>\n",
       "    </tr>\n",
       "    <tr>\n",
       "      <th>std</th>\n",
       "      <td>0.368612</td>\n",
       "      <td>24.559481</td>\n",
       "      <td>30.090047</td>\n",
       "    </tr>\n",
       "    <tr>\n",
       "      <th>min</th>\n",
       "      <td>0.000000</td>\n",
       "      <td>0.000000</td>\n",
       "      <td>18.250000</td>\n",
       "    </tr>\n",
       "    <tr>\n",
       "      <th>25%</th>\n",
       "      <td>0.000000</td>\n",
       "      <td>9.000000</td>\n",
       "      <td>35.500000</td>\n",
       "    </tr>\n",
       "    <tr>\n",
       "      <th>50%</th>\n",
       "      <td>0.000000</td>\n",
       "      <td>29.000000</td>\n",
       "      <td>70.350000</td>\n",
       "    </tr>\n",
       "    <tr>\n",
       "      <th>75%</th>\n",
       "      <td>0.000000</td>\n",
       "      <td>55.000000</td>\n",
       "      <td>89.850000</td>\n",
       "    </tr>\n",
       "    <tr>\n",
       "      <th>max</th>\n",
       "      <td>1.000000</td>\n",
       "      <td>72.000000</td>\n",
       "      <td>118.750000</td>\n",
       "    </tr>\n",
       "  </tbody>\n",
       "</table>\n",
       "</div>"
      ],
      "text/plain": [
       "       SeniorCitizen       tenure  MonthlyCharges\n",
       "count    7043.000000  7043.000000     7043.000000\n",
       "mean        0.162147    32.371149       64.761692\n",
       "std         0.368612    24.559481       30.090047\n",
       "min         0.000000     0.000000       18.250000\n",
       "25%         0.000000     9.000000       35.500000\n",
       "50%         0.000000    29.000000       70.350000\n",
       "75%         0.000000    55.000000       89.850000\n",
       "max         1.000000    72.000000      118.750000"
      ]
     },
     "execution_count": 8,
     "metadata": {},
     "output_type": "execute_result"
    }
   ],
   "source": [
    "churndata.describe()"
   ]
  },
  {
   "cell_type": "code",
   "execution_count": 9,
   "metadata": {},
   "outputs": [
    {
     "data": {
      "text/html": [
       "<div>\n",
       "<style scoped>\n",
       "    .dataframe tbody tr th:only-of-type {\n",
       "        vertical-align: middle;\n",
       "    }\n",
       "\n",
       "    .dataframe tbody tr th {\n",
       "        vertical-align: top;\n",
       "    }\n",
       "\n",
       "    .dataframe thead th {\n",
       "        text-align: right;\n",
       "    }\n",
       "</style>\n",
       "<table border=\"1\" class=\"dataframe\">\n",
       "  <thead>\n",
       "    <tr style=\"text-align: right;\">\n",
       "      <th></th>\n",
       "      <th>gender</th>\n",
       "      <th>SeniorCitizen</th>\n",
       "      <th>Partner</th>\n",
       "      <th>Dependents</th>\n",
       "      <th>tenure</th>\n",
       "      <th>PhoneService</th>\n",
       "      <th>OnlineSecurity</th>\n",
       "      <th>OnlineBackup</th>\n",
       "      <th>DeviceProtection</th>\n",
       "      <th>TechSupport</th>\n",
       "      <th>StreamingTV</th>\n",
       "      <th>StreamingMovies</th>\n",
       "      <th>Contract</th>\n",
       "      <th>MonthlyCharges</th>\n",
       "      <th>TotalCharges</th>\n",
       "      <th>Churn</th>\n",
       "    </tr>\n",
       "  </thead>\n",
       "  <tbody>\n",
       "    <tr>\n",
       "      <th>0</th>\n",
       "      <td>Female</td>\n",
       "      <td>0</td>\n",
       "      <td>Yes</td>\n",
       "      <td>No</td>\n",
       "      <td>1</td>\n",
       "      <td>No</td>\n",
       "      <td>No</td>\n",
       "      <td>Yes</td>\n",
       "      <td>No</td>\n",
       "      <td>No</td>\n",
       "      <td>No</td>\n",
       "      <td>No</td>\n",
       "      <td>Month-to-month</td>\n",
       "      <td>29.85</td>\n",
       "      <td>29.85</td>\n",
       "      <td>No</td>\n",
       "    </tr>\n",
       "    <tr>\n",
       "      <th>1</th>\n",
       "      <td>Male</td>\n",
       "      <td>0</td>\n",
       "      <td>No</td>\n",
       "      <td>No</td>\n",
       "      <td>34</td>\n",
       "      <td>Yes</td>\n",
       "      <td>Yes</td>\n",
       "      <td>No</td>\n",
       "      <td>Yes</td>\n",
       "      <td>No</td>\n",
       "      <td>No</td>\n",
       "      <td>No</td>\n",
       "      <td>One year</td>\n",
       "      <td>56.95</td>\n",
       "      <td>1889.5</td>\n",
       "      <td>No</td>\n",
       "    </tr>\n",
       "    <tr>\n",
       "      <th>2</th>\n",
       "      <td>Male</td>\n",
       "      <td>0</td>\n",
       "      <td>No</td>\n",
       "      <td>No</td>\n",
       "      <td>2</td>\n",
       "      <td>Yes</td>\n",
       "      <td>Yes</td>\n",
       "      <td>Yes</td>\n",
       "      <td>No</td>\n",
       "      <td>No</td>\n",
       "      <td>No</td>\n",
       "      <td>No</td>\n",
       "      <td>Month-to-month</td>\n",
       "      <td>53.85</td>\n",
       "      <td>108.15</td>\n",
       "      <td>Yes</td>\n",
       "    </tr>\n",
       "    <tr>\n",
       "      <th>3</th>\n",
       "      <td>Male</td>\n",
       "      <td>0</td>\n",
       "      <td>No</td>\n",
       "      <td>No</td>\n",
       "      <td>45</td>\n",
       "      <td>No</td>\n",
       "      <td>Yes</td>\n",
       "      <td>No</td>\n",
       "      <td>Yes</td>\n",
       "      <td>Yes</td>\n",
       "      <td>No</td>\n",
       "      <td>No</td>\n",
       "      <td>One year</td>\n",
       "      <td>42.30</td>\n",
       "      <td>1840.75</td>\n",
       "      <td>No</td>\n",
       "    </tr>\n",
       "    <tr>\n",
       "      <th>4</th>\n",
       "      <td>Female</td>\n",
       "      <td>0</td>\n",
       "      <td>No</td>\n",
       "      <td>No</td>\n",
       "      <td>2</td>\n",
       "      <td>Yes</td>\n",
       "      <td>No</td>\n",
       "      <td>No</td>\n",
       "      <td>No</td>\n",
       "      <td>No</td>\n",
       "      <td>No</td>\n",
       "      <td>No</td>\n",
       "      <td>Month-to-month</td>\n",
       "      <td>70.70</td>\n",
       "      <td>151.65</td>\n",
       "      <td>Yes</td>\n",
       "    </tr>\n",
       "  </tbody>\n",
       "</table>\n",
       "</div>"
      ],
      "text/plain": [
       "   gender  SeniorCitizen Partner Dependents  tenure PhoneService  \\\n",
       "0  Female              0     Yes         No       1           No   \n",
       "1    Male              0      No         No      34          Yes   \n",
       "2    Male              0      No         No       2          Yes   \n",
       "3    Male              0      No         No      45           No   \n",
       "4  Female              0      No         No       2          Yes   \n",
       "\n",
       "  OnlineSecurity OnlineBackup DeviceProtection TechSupport StreamingTV  \\\n",
       "0             No          Yes               No          No          No   \n",
       "1            Yes           No              Yes          No          No   \n",
       "2            Yes          Yes               No          No          No   \n",
       "3            Yes           No              Yes         Yes          No   \n",
       "4             No           No               No          No          No   \n",
       "\n",
       "  StreamingMovies        Contract  MonthlyCharges TotalCharges Churn  \n",
       "0              No  Month-to-month           29.85        29.85    No  \n",
       "1              No        One year           56.95       1889.5    No  \n",
       "2              No  Month-to-month           53.85       108.15   Yes  \n",
       "3              No        One year           42.30      1840.75    No  \n",
       "4              No  Month-to-month           70.70       151.65   Yes  "
      ]
     },
     "execution_count": 9,
     "metadata": {},
     "output_type": "execute_result"
    }
   ],
   "source": [
    "churndata.head()"
   ]
  },
  {
   "cell_type": "code",
   "execution_count": 10,
   "metadata": {},
   "outputs": [
    {
     "data": {
      "text/plain": [
       "dtype('O')"
      ]
     },
     "execution_count": 10,
     "metadata": {},
     "output_type": "execute_result"
    }
   ],
   "source": [
    "churndata['TotalCharges'].dtypes"
   ]
  },
  {
   "cell_type": "code",
   "execution_count": 11,
   "metadata": {},
   "outputs": [],
   "source": [
    "churndata['TotalCharges'] = pd.to_numeric(churndata['TotalCharges'], errors = \"coerce\")"
   ]
  },
  {
   "cell_type": "code",
   "execution_count": 12,
   "metadata": {},
   "outputs": [],
   "source": [
    "churndata = churndata.dropna(axis = \"index\")"
   ]
  },
  {
   "cell_type": "code",
   "execution_count": 13,
   "metadata": {},
   "outputs": [
    {
     "data": {
      "text/plain": [
       "gender              0\n",
       "SeniorCitizen       0\n",
       "Partner             0\n",
       "Dependents          0\n",
       "tenure              0\n",
       "PhoneService        0\n",
       "OnlineSecurity      0\n",
       "OnlineBackup        0\n",
       "DeviceProtection    0\n",
       "TechSupport         0\n",
       "StreamingTV         0\n",
       "StreamingMovies     0\n",
       "Contract            0\n",
       "MonthlyCharges      0\n",
       "TotalCharges        0\n",
       "Churn               0\n",
       "dtype: int64"
      ]
     },
     "execution_count": 13,
     "metadata": {},
     "output_type": "execute_result"
    }
   ],
   "source": [
    "churndata.isna().sum()"
   ]
  },
  {
   "cell_type": "code",
   "execution_count": 14,
   "metadata": {},
   "outputs": [],
   "source": [
    "num = churndata.select_dtypes(include = ['float64','int64'])\n",
    "cat = churndata.select_dtypes(include = 'object')\n",
    "cat = cat.drop(['Churn'], axis = 1)"
   ]
  },
  {
   "cell_type": "code",
   "execution_count": 15,
   "metadata": {},
   "outputs": [
    {
     "data": {
      "text/plain": [
       "Index(['SeniorCitizen', 'tenure', 'MonthlyCharges', 'TotalCharges'], dtype='object')"
      ]
     },
     "execution_count": 15,
     "metadata": {},
     "output_type": "execute_result"
    }
   ],
   "source": [
    "num.columns\n"
   ]
  },
  {
   "cell_type": "code",
   "execution_count": 16,
   "metadata": {},
   "outputs": [
    {
     "data": {
      "text/plain": [
       "(7032, 4)"
      ]
     },
     "execution_count": 16,
     "metadata": {},
     "output_type": "execute_result"
    }
   ],
   "source": [
    "num.shape"
   ]
  },
  {
   "cell_type": "code",
   "execution_count": 17,
   "metadata": {},
   "outputs": [],
   "source": [
    "cat_dum = pd.get_dummies(cat, drop_first = True)"
   ]
  },
  {
   "cell_type": "code",
   "execution_count": 19,
   "metadata": {},
   "outputs": [],
   "source": [
    "data_dum = pd.concat([num, churndata['Churn'],cat_dum],axis=1)\n",
    "y = data_dum['Churn']\n",
    "X = data_dum.drop(['Churn'], axis=1)"
   ]
  },
  {
   "cell_type": "code",
   "execution_count": 20,
   "metadata": {},
   "outputs": [
    {
     "data": {
      "text/html": [
       "<div>\n",
       "<style scoped>\n",
       "    .dataframe tbody tr th:only-of-type {\n",
       "        vertical-align: middle;\n",
       "    }\n",
       "\n",
       "    .dataframe tbody tr th {\n",
       "        vertical-align: top;\n",
       "    }\n",
       "\n",
       "    .dataframe thead th {\n",
       "        text-align: right;\n",
       "    }\n",
       "</style>\n",
       "<table border=\"1\" class=\"dataframe\">\n",
       "  <thead>\n",
       "    <tr style=\"text-align: right;\">\n",
       "      <th></th>\n",
       "      <th>SeniorCitizen</th>\n",
       "      <th>tenure</th>\n",
       "      <th>MonthlyCharges</th>\n",
       "      <th>TotalCharges</th>\n",
       "      <th>4</th>\n",
       "      <th>5</th>\n",
       "      <th>6</th>\n",
       "      <th>7</th>\n",
       "      <th>8</th>\n",
       "      <th>9</th>\n",
       "      <th>...</th>\n",
       "      <th>12</th>\n",
       "      <th>13</th>\n",
       "      <th>14</th>\n",
       "      <th>15</th>\n",
       "      <th>16</th>\n",
       "      <th>17</th>\n",
       "      <th>18</th>\n",
       "      <th>19</th>\n",
       "      <th>20</th>\n",
       "      <th>21</th>\n",
       "    </tr>\n",
       "  </thead>\n",
       "  <tbody>\n",
       "    <tr>\n",
       "      <th>0</th>\n",
       "      <td>-0.440327</td>\n",
       "      <td>-1.280248</td>\n",
       "      <td>-1.161694</td>\n",
       "      <td>-0.994194</td>\n",
       "      <td>-1.009430</td>\n",
       "      <td>1.035617</td>\n",
       "      <td>-0.652305</td>\n",
       "      <td>-3.056334</td>\n",
       "      <td>-0.52513</td>\n",
       "      <td>-0.633746</td>\n",
       "      <td>...</td>\n",
       "      <td>-0.52513</td>\n",
       "      <td>-0.723918</td>\n",
       "      <td>-0.52513</td>\n",
       "      <td>-0.639260</td>\n",
       "      <td>-0.52513</td>\n",
       "      <td>-0.790186</td>\n",
       "      <td>-0.52513</td>\n",
       "      <td>-0.796849</td>\n",
       "      <td>-0.514537</td>\n",
       "      <td>-0.561364</td>\n",
       "    </tr>\n",
       "    <tr>\n",
       "      <th>1</th>\n",
       "      <td>-0.440327</td>\n",
       "      <td>0.064303</td>\n",
       "      <td>-0.260878</td>\n",
       "      <td>-0.173740</td>\n",
       "      <td>0.990658</td>\n",
       "      <td>-0.965608</td>\n",
       "      <td>-0.652305</td>\n",
       "      <td>0.327189</td>\n",
       "      <td>-0.52513</td>\n",
       "      <td>1.577918</td>\n",
       "      <td>...</td>\n",
       "      <td>-0.52513</td>\n",
       "      <td>1.381372</td>\n",
       "      <td>-0.52513</td>\n",
       "      <td>-0.639260</td>\n",
       "      <td>-0.52513</td>\n",
       "      <td>-0.790186</td>\n",
       "      <td>-0.52513</td>\n",
       "      <td>-0.796849</td>\n",
       "      <td>1.943495</td>\n",
       "      <td>-0.561364</td>\n",
       "    </tr>\n",
       "    <tr>\n",
       "      <th>2</th>\n",
       "      <td>-0.440327</td>\n",
       "      <td>-1.239504</td>\n",
       "      <td>-0.363923</td>\n",
       "      <td>-0.959649</td>\n",
       "      <td>0.990658</td>\n",
       "      <td>-0.965608</td>\n",
       "      <td>-0.652305</td>\n",
       "      <td>0.327189</td>\n",
       "      <td>-0.52513</td>\n",
       "      <td>1.577918</td>\n",
       "      <td>...</td>\n",
       "      <td>-0.52513</td>\n",
       "      <td>-0.723918</td>\n",
       "      <td>-0.52513</td>\n",
       "      <td>-0.639260</td>\n",
       "      <td>-0.52513</td>\n",
       "      <td>-0.790186</td>\n",
       "      <td>-0.52513</td>\n",
       "      <td>-0.796849</td>\n",
       "      <td>-0.514537</td>\n",
       "      <td>-0.561364</td>\n",
       "    </tr>\n",
       "    <tr>\n",
       "      <th>3</th>\n",
       "      <td>-0.440327</td>\n",
       "      <td>0.512486</td>\n",
       "      <td>-0.747850</td>\n",
       "      <td>-0.195248</td>\n",
       "      <td>0.990658</td>\n",
       "      <td>-0.965608</td>\n",
       "      <td>-0.652305</td>\n",
       "      <td>-3.056334</td>\n",
       "      <td>-0.52513</td>\n",
       "      <td>1.577918</td>\n",
       "      <td>...</td>\n",
       "      <td>-0.52513</td>\n",
       "      <td>1.381372</td>\n",
       "      <td>-0.52513</td>\n",
       "      <td>1.564308</td>\n",
       "      <td>-0.52513</td>\n",
       "      <td>-0.790186</td>\n",
       "      <td>-0.52513</td>\n",
       "      <td>-0.796849</td>\n",
       "      <td>1.943495</td>\n",
       "      <td>-0.561364</td>\n",
       "    </tr>\n",
       "    <tr>\n",
       "      <th>4</th>\n",
       "      <td>-0.440327</td>\n",
       "      <td>-1.239504</td>\n",
       "      <td>0.196178</td>\n",
       "      <td>-0.940457</td>\n",
       "      <td>-1.009430</td>\n",
       "      <td>-0.965608</td>\n",
       "      <td>-0.652305</td>\n",
       "      <td>0.327189</td>\n",
       "      <td>-0.52513</td>\n",
       "      <td>-0.633746</td>\n",
       "      <td>...</td>\n",
       "      <td>-0.52513</td>\n",
       "      <td>-0.723918</td>\n",
       "      <td>-0.52513</td>\n",
       "      <td>-0.639260</td>\n",
       "      <td>-0.52513</td>\n",
       "      <td>-0.790186</td>\n",
       "      <td>-0.52513</td>\n",
       "      <td>-0.796849</td>\n",
       "      <td>-0.514537</td>\n",
       "      <td>-0.561364</td>\n",
       "    </tr>\n",
       "  </tbody>\n",
       "</table>\n",
       "<p>5 rows × 22 columns</p>\n",
       "</div>"
      ],
      "text/plain": [
       "   SeniorCitizen    tenure  MonthlyCharges  TotalCharges         4         5  \\\n",
       "0      -0.440327 -1.280248       -1.161694     -0.994194 -1.009430  1.035617   \n",
       "1      -0.440327  0.064303       -0.260878     -0.173740  0.990658 -0.965608   \n",
       "2      -0.440327 -1.239504       -0.363923     -0.959649  0.990658 -0.965608   \n",
       "3      -0.440327  0.512486       -0.747850     -0.195248  0.990658 -0.965608   \n",
       "4      -0.440327 -1.239504        0.196178     -0.940457 -1.009430 -0.965608   \n",
       "\n",
       "          6         7        8         9  ...       12        13       14  \\\n",
       "0 -0.652305 -3.056334 -0.52513 -0.633746  ... -0.52513 -0.723918 -0.52513   \n",
       "1 -0.652305  0.327189 -0.52513  1.577918  ... -0.52513  1.381372 -0.52513   \n",
       "2 -0.652305  0.327189 -0.52513  1.577918  ... -0.52513 -0.723918 -0.52513   \n",
       "3 -0.652305 -3.056334 -0.52513  1.577918  ... -0.52513  1.381372 -0.52513   \n",
       "4 -0.652305  0.327189 -0.52513 -0.633746  ... -0.52513 -0.723918 -0.52513   \n",
       "\n",
       "         15       16        17       18        19        20        21  \n",
       "0 -0.639260 -0.52513 -0.790186 -0.52513 -0.796849 -0.514537 -0.561364  \n",
       "1 -0.639260 -0.52513 -0.790186 -0.52513 -0.796849  1.943495 -0.561364  \n",
       "2 -0.639260 -0.52513 -0.790186 -0.52513 -0.796849 -0.514537 -0.561364  \n",
       "3  1.564308 -0.52513 -0.790186 -0.52513 -0.796849  1.943495 -0.561364  \n",
       "4 -0.639260 -0.52513 -0.790186 -0.52513 -0.796849 -0.514537 -0.561364  \n",
       "\n",
       "[5 rows x 22 columns]"
      ]
     },
     "execution_count": 20,
     "metadata": {},
     "output_type": "execute_result"
    }
   ],
   "source": [
    " \n",
    "transformer = StandardScaler().fit(X)\n",
    "X_standarized = transformer.transform(X)\n",
    "X_standarized = pd.DataFrame(X_standarized)\n",
    "X_standarized.columns = X_standarized.columns.astype(str)\n",
    "X_standarized.rename(columns={'0':'SeniorCitizen', '1':'tenure', '2':'MonthlyCharges', '3':'TotalCharges'}, inplace=True)\n",
    "X_standarized.head()\n"
   ]
  },
  {
   "cell_type": "code",
   "execution_count": 21,
   "metadata": {},
   "outputs": [],
   "source": [
    "from sklearn.model_selection import train_test_split\n",
    "\n",
    "X_train, X_test, y_train, y_test = train_test_split(X_standarized, y, test_size=0.3, random_state=100)"
   ]
  },
  {
   "cell_type": "code",
   "execution_count": 22,
   "metadata": {},
   "outputs": [
    {
     "data": {
      "text/plain": [
       "0.7943127962085308"
      ]
     },
     "execution_count": 22,
     "metadata": {},
     "output_type": "execute_result"
    }
   ],
   "source": [
    "model = LogisticRegression()\n",
    "model.fit(X_train,y_train)\n",
    "model.score(X_test,y_test)"
   ]
  },
  {
   "cell_type": "code",
   "execution_count": 23,
   "metadata": {},
   "outputs": [
    {
     "name": "stdout",
     "output_type": "stream",
     "text": [
      "The accuracy of the model is: 0.72\n"
     ]
    }
   ],
   "source": [
    "model_dt = DecisionTreeClassifier()\n",
    "model_dt.fit(X_train, y_train)\n",
    "predictions_dt = model.predict(X_test)\n",
    "print(\"The accuracy of the model is: {:4.2f}\".format(model_dt.score(X_test, y_test)))"
   ]
  },
  {
   "cell_type": "markdown",
   "metadata": {},
   "source": [
    "###  SMOTE"
   ]
  },
  {
   "cell_type": "code",
   "execution_count": 32,
   "metadata": {},
   "outputs": [
    {
     "name": "stdout",
     "output_type": "stream",
     "text": [
      "[['No' 5163]\n",
      " ['Yes' 5163]]\n"
     ]
    }
   ],
   "source": [
    "smote = SMOTE()\n",
    "X_sm, y_sm = smote.fit_resample(X, y)\n",
    "unique, counts = np.unique(y_sm, return_counts=True)\n",
    "print(np.asarray((unique, counts)).T)"
   ]
  },
  {
   "cell_type": "code",
   "execution_count": 33,
   "metadata": {},
   "outputs": [
    {
     "data": {
      "text/html": [
       "<div>\n",
       "<style scoped>\n",
       "    .dataframe tbody tr th:only-of-type {\n",
       "        vertical-align: middle;\n",
       "    }\n",
       "\n",
       "    .dataframe tbody tr th {\n",
       "        vertical-align: top;\n",
       "    }\n",
       "\n",
       "    .dataframe thead th {\n",
       "        text-align: right;\n",
       "    }\n",
       "</style>\n",
       "<table border=\"1\" class=\"dataframe\">\n",
       "  <thead>\n",
       "    <tr style=\"text-align: right;\">\n",
       "      <th></th>\n",
       "      <th>SeniorCitizen</th>\n",
       "      <th>tenure</th>\n",
       "      <th>MonthlyCharges</th>\n",
       "      <th>TotalCharges</th>\n",
       "      <th>4</th>\n",
       "      <th>5</th>\n",
       "      <th>6</th>\n",
       "      <th>7</th>\n",
       "      <th>8</th>\n",
       "      <th>9</th>\n",
       "      <th>...</th>\n",
       "      <th>12</th>\n",
       "      <th>13</th>\n",
       "      <th>14</th>\n",
       "      <th>15</th>\n",
       "      <th>16</th>\n",
       "      <th>17</th>\n",
       "      <th>18</th>\n",
       "      <th>19</th>\n",
       "      <th>20</th>\n",
       "      <th>21</th>\n",
       "    </tr>\n",
       "  </thead>\n",
       "  <tbody>\n",
       "    <tr>\n",
       "      <th>0</th>\n",
       "      <td>-0.393907</td>\n",
       "      <td>-1.105254</td>\n",
       "      <td>-1.323323</td>\n",
       "      <td>-0.916355</td>\n",
       "      <td>-0.867837</td>\n",
       "      <td>1.281248</td>\n",
       "      <td>-0.525729</td>\n",
       "      <td>-2.916897</td>\n",
       "      <td>-0.441119</td>\n",
       "      <td>-0.508732</td>\n",
       "      <td>...</td>\n",
       "      <td>-0.441119</td>\n",
       "      <td>-0.619226</td>\n",
       "      <td>-0.441119</td>\n",
       "      <td>-0.517166</td>\n",
       "      <td>-0.441119</td>\n",
       "      <td>-0.743022</td>\n",
       "      <td>-0.441119</td>\n",
       "      <td>-0.74821</td>\n",
       "      <td>-0.419302</td>\n",
       "      <td>-0.445497</td>\n",
       "    </tr>\n",
       "    <tr>\n",
       "      <th>1</th>\n",
       "      <td>-0.393907</td>\n",
       "      <td>0.269427</td>\n",
       "      <td>-0.380403</td>\n",
       "      <td>-0.066955</td>\n",
       "      <td>1.152290</td>\n",
       "      <td>-0.780489</td>\n",
       "      <td>-0.525729</td>\n",
       "      <td>0.342830</td>\n",
       "      <td>-0.441119</td>\n",
       "      <td>1.965673</td>\n",
       "      <td>...</td>\n",
       "      <td>-0.441119</td>\n",
       "      <td>1.614920</td>\n",
       "      <td>-0.441119</td>\n",
       "      <td>-0.517166</td>\n",
       "      <td>-0.441119</td>\n",
       "      <td>-0.743022</td>\n",
       "      <td>-0.441119</td>\n",
       "      <td>-0.74821</td>\n",
       "      <td>2.384916</td>\n",
       "      <td>-0.445497</td>\n",
       "    </tr>\n",
       "    <tr>\n",
       "      <th>2</th>\n",
       "      <td>-0.393907</td>\n",
       "      <td>-1.063597</td>\n",
       "      <td>-0.488265</td>\n",
       "      <td>-0.880591</td>\n",
       "      <td>1.152290</td>\n",
       "      <td>-0.780489</td>\n",
       "      <td>-0.525729</td>\n",
       "      <td>0.342830</td>\n",
       "      <td>-0.441119</td>\n",
       "      <td>1.965673</td>\n",
       "      <td>...</td>\n",
       "      <td>-0.441119</td>\n",
       "      <td>-0.619226</td>\n",
       "      <td>-0.441119</td>\n",
       "      <td>-0.517166</td>\n",
       "      <td>-0.441119</td>\n",
       "      <td>-0.743022</td>\n",
       "      <td>-0.441119</td>\n",
       "      <td>-0.74821</td>\n",
       "      <td>-0.419302</td>\n",
       "      <td>-0.445497</td>\n",
       "    </tr>\n",
       "    <tr>\n",
       "      <th>3</th>\n",
       "      <td>-0.393907</td>\n",
       "      <td>0.727654</td>\n",
       "      <td>-0.890137</td>\n",
       "      <td>-0.089222</td>\n",
       "      <td>1.152290</td>\n",
       "      <td>-0.780489</td>\n",
       "      <td>-0.525729</td>\n",
       "      <td>-2.916897</td>\n",
       "      <td>-0.441119</td>\n",
       "      <td>1.965673</td>\n",
       "      <td>...</td>\n",
       "      <td>-0.441119</td>\n",
       "      <td>1.614920</td>\n",
       "      <td>-0.441119</td>\n",
       "      <td>1.933616</td>\n",
       "      <td>-0.441119</td>\n",
       "      <td>-0.743022</td>\n",
       "      <td>-0.441119</td>\n",
       "      <td>-0.74821</td>\n",
       "      <td>2.384916</td>\n",
       "      <td>-0.445497</td>\n",
       "    </tr>\n",
       "    <tr>\n",
       "      <th>4</th>\n",
       "      <td>-0.393907</td>\n",
       "      <td>-1.063597</td>\n",
       "      <td>0.098015</td>\n",
       "      <td>-0.860723</td>\n",
       "      <td>-0.867837</td>\n",
       "      <td>-0.780489</td>\n",
       "      <td>-0.525729</td>\n",
       "      <td>0.342830</td>\n",
       "      <td>-0.441119</td>\n",
       "      <td>-0.508732</td>\n",
       "      <td>...</td>\n",
       "      <td>-0.441119</td>\n",
       "      <td>-0.619226</td>\n",
       "      <td>-0.441119</td>\n",
       "      <td>-0.517166</td>\n",
       "      <td>-0.441119</td>\n",
       "      <td>-0.743022</td>\n",
       "      <td>-0.441119</td>\n",
       "      <td>-0.74821</td>\n",
       "      <td>-0.419302</td>\n",
       "      <td>-0.445497</td>\n",
       "    </tr>\n",
       "  </tbody>\n",
       "</table>\n",
       "<p>5 rows × 22 columns</p>\n",
       "</div>"
      ],
      "text/plain": [
       "   SeniorCitizen    tenure  MonthlyCharges  TotalCharges         4         5  \\\n",
       "0      -0.393907 -1.105254       -1.323323     -0.916355 -0.867837  1.281248   \n",
       "1      -0.393907  0.269427       -0.380403     -0.066955  1.152290 -0.780489   \n",
       "2      -0.393907 -1.063597       -0.488265     -0.880591  1.152290 -0.780489   \n",
       "3      -0.393907  0.727654       -0.890137     -0.089222  1.152290 -0.780489   \n",
       "4      -0.393907 -1.063597        0.098015     -0.860723 -0.867837 -0.780489   \n",
       "\n",
       "          6         7         8         9  ...        12        13        14  \\\n",
       "0 -0.525729 -2.916897 -0.441119 -0.508732  ... -0.441119 -0.619226 -0.441119   \n",
       "1 -0.525729  0.342830 -0.441119  1.965673  ... -0.441119  1.614920 -0.441119   \n",
       "2 -0.525729  0.342830 -0.441119  1.965673  ... -0.441119 -0.619226 -0.441119   \n",
       "3 -0.525729 -2.916897 -0.441119  1.965673  ... -0.441119  1.614920 -0.441119   \n",
       "4 -0.525729  0.342830 -0.441119 -0.508732  ... -0.441119 -0.619226 -0.441119   \n",
       "\n",
       "         15        16        17        18       19        20        21  \n",
       "0 -0.517166 -0.441119 -0.743022 -0.441119 -0.74821 -0.419302 -0.445497  \n",
       "1 -0.517166 -0.441119 -0.743022 -0.441119 -0.74821  2.384916 -0.445497  \n",
       "2 -0.517166 -0.441119 -0.743022 -0.441119 -0.74821 -0.419302 -0.445497  \n",
       "3  1.933616 -0.441119 -0.743022 -0.441119 -0.74821  2.384916 -0.445497  \n",
       "4 -0.517166 -0.441119 -0.743022 -0.441119 -0.74821 -0.419302 -0.445497  \n",
       "\n",
       "[5 rows x 22 columns]"
      ]
     },
     "execution_count": 33,
     "metadata": {},
     "output_type": "execute_result"
    }
   ],
   "source": [
    " \n",
    "transformer = StandardScaler().fit(X_sm)\n",
    "X_sm_standarized = transformer.transform(X_sm)\n",
    "X_sm_standarized = pd.DataFrame(X_sm_standarized)\n",
    "X_sm_standarized.columns = X_sm_standarized.columns.astype(str)\n",
    "X_sm_standarized.rename(columns={'0':'SeniorCitizen', '1':'tenure', '2':'MonthlyCharges', '3':'TotalCharges'}, inplace=True)\n",
    "X_sm_standarized.head()\n"
   ]
  },
  {
   "cell_type": "code",
   "execution_count": 34,
   "metadata": {},
   "outputs": [],
   "source": [
    "from sklearn.model_selection import train_test_split\n",
    "\n",
    "X_train, X_test, y_train, y_test = train_test_split(X_sm_standarized, y_sm, test_size=0.3, random_state=100)"
   ]
  },
  {
   "cell_type": "code",
   "execution_count": 35,
   "metadata": {},
   "outputs": [
    {
     "data": {
      "text/plain": [
       "0.8285990961910911"
      ]
     },
     "execution_count": 35,
     "metadata": {},
     "output_type": "execute_result"
    }
   ],
   "source": [
    "model = LogisticRegression()\n",
    "model.fit(X_train,y_train)\n",
    "model.score(X_test,y_test)"
   ]
  },
  {
   "cell_type": "code",
   "execution_count": 36,
   "metadata": {},
   "outputs": [
    {
     "name": "stdout",
     "output_type": "stream",
     "text": [
      "The accuracy of the model is: 0.78\n"
     ]
    }
   ],
   "source": [
    "model_dt = DecisionTreeClassifier()\n",
    "model_dt.fit(X_train, y_train)\n",
    "predictions_dt = model.predict(X_test)\n",
    "print(\"The accuracy of the model is: {:4.2f}\".format(model_dt.score(X_test, y_test)))\n"
   ]
  },
  {
   "cell_type": "markdown",
   "metadata": {},
   "source": [
    "### TOMEKLINKS "
   ]
  },
  {
   "cell_type": "code",
   "execution_count": 37,
   "metadata": {},
   "outputs": [
    {
     "data": {
      "text/plain": [
       "No     4596\n",
       "Yes    1869\n",
       "Name: Churn, dtype: int64"
      ]
     },
     "execution_count": 37,
     "metadata": {},
     "output_type": "execute_result"
    }
   ],
   "source": [
    "from imblearn.under_sampling import TomekLinks\n",
    "\n",
    "tl = TomekLinks('majority')\n",
    "\n",
    "X_tl, y_tl = tl.fit_resample(np.array(X), y)\n",
    "\n",
    "y_tl.value_counts()"
   ]
  },
  {
   "cell_type": "markdown",
   "metadata": {},
   "source": [
    "### TRANSFORM TOMELINKS"
   ]
  },
  {
   "cell_type": "code",
   "execution_count": 38,
   "metadata": {},
   "outputs": [
    {
     "data": {
      "text/html": [
       "<div>\n",
       "<style scoped>\n",
       "    .dataframe tbody tr th:only-of-type {\n",
       "        vertical-align: middle;\n",
       "    }\n",
       "\n",
       "    .dataframe tbody tr th {\n",
       "        vertical-align: top;\n",
       "    }\n",
       "\n",
       "    .dataframe thead th {\n",
       "        text-align: right;\n",
       "    }\n",
       "</style>\n",
       "<table border=\"1\" class=\"dataframe\">\n",
       "  <thead>\n",
       "    <tr style=\"text-align: right;\">\n",
       "      <th></th>\n",
       "      <th>SeniorCitizen</th>\n",
       "      <th>tenure</th>\n",
       "      <th>MonthlyCharges</th>\n",
       "      <th>TotalCharges</th>\n",
       "      <th>4</th>\n",
       "      <th>5</th>\n",
       "      <th>6</th>\n",
       "      <th>7</th>\n",
       "      <th>8</th>\n",
       "      <th>9</th>\n",
       "      <th>...</th>\n",
       "      <th>12</th>\n",
       "      <th>13</th>\n",
       "      <th>14</th>\n",
       "      <th>15</th>\n",
       "      <th>16</th>\n",
       "      <th>17</th>\n",
       "      <th>18</th>\n",
       "      <th>19</th>\n",
       "      <th>20</th>\n",
       "      <th>21</th>\n",
       "    </tr>\n",
       "  </thead>\n",
       "  <tbody>\n",
       "    <tr>\n",
       "      <th>0</th>\n",
       "      <td>-0.43734</td>\n",
       "      <td>0.035998</td>\n",
       "      <td>-0.233070</td>\n",
       "      <td>-0.181635</td>\n",
       "      <td>0.989690</td>\n",
       "      <td>-0.972987</td>\n",
       "      <td>-0.658876</td>\n",
       "      <td>0.328008</td>\n",
       "      <td>-0.545593</td>\n",
       "      <td>1.581824</td>\n",
       "      <td>...</td>\n",
       "      <td>-0.545593</td>\n",
       "      <td>1.386136</td>\n",
       "      <td>-0.545593</td>\n",
       "      <td>-0.636258</td>\n",
       "      <td>-0.545593</td>\n",
       "      <td>-0.781417</td>\n",
       "      <td>-0.545593</td>\n",
       "      <td>-0.791464</td>\n",
       "      <td>1.934739</td>\n",
       "      <td>-0.57872</td>\n",
       "    </tr>\n",
       "    <tr>\n",
       "      <th>1</th>\n",
       "      <td>-0.43734</td>\n",
       "      <td>-1.259172</td>\n",
       "      <td>-0.335207</td>\n",
       "      <td>-0.962250</td>\n",
       "      <td>0.989690</td>\n",
       "      <td>-0.972987</td>\n",
       "      <td>-0.658876</td>\n",
       "      <td>0.328008</td>\n",
       "      <td>-0.545593</td>\n",
       "      <td>1.581824</td>\n",
       "      <td>...</td>\n",
       "      <td>-0.545593</td>\n",
       "      <td>-0.721430</td>\n",
       "      <td>-0.545593</td>\n",
       "      <td>-0.636258</td>\n",
       "      <td>-0.545593</td>\n",
       "      <td>-0.781417</td>\n",
       "      <td>-0.545593</td>\n",
       "      <td>-0.791464</td>\n",
       "      <td>-0.516866</td>\n",
       "      <td>-0.57872</td>\n",
       "    </tr>\n",
       "    <tr>\n",
       "      <th>2</th>\n",
       "      <td>-0.43734</td>\n",
       "      <td>0.481213</td>\n",
       "      <td>-0.715750</td>\n",
       "      <td>-0.202998</td>\n",
       "      <td>0.989690</td>\n",
       "      <td>-0.972987</td>\n",
       "      <td>-0.658876</td>\n",
       "      <td>-3.048702</td>\n",
       "      <td>-0.545593</td>\n",
       "      <td>1.581824</td>\n",
       "      <td>...</td>\n",
       "      <td>-0.545593</td>\n",
       "      <td>1.386136</td>\n",
       "      <td>-0.545593</td>\n",
       "      <td>1.571690</td>\n",
       "      <td>-0.545593</td>\n",
       "      <td>-0.781417</td>\n",
       "      <td>-0.545593</td>\n",
       "      <td>-0.791464</td>\n",
       "      <td>1.934739</td>\n",
       "      <td>-0.57872</td>\n",
       "    </tr>\n",
       "    <tr>\n",
       "      <th>3</th>\n",
       "      <td>-0.43734</td>\n",
       "      <td>-1.259172</td>\n",
       "      <td>0.219958</td>\n",
       "      <td>-0.943188</td>\n",
       "      <td>-1.010418</td>\n",
       "      <td>-0.972987</td>\n",
       "      <td>-0.658876</td>\n",
       "      <td>0.328008</td>\n",
       "      <td>-0.545593</td>\n",
       "      <td>-0.632182</td>\n",
       "      <td>...</td>\n",
       "      <td>-0.545593</td>\n",
       "      <td>-0.721430</td>\n",
       "      <td>-0.545593</td>\n",
       "      <td>-0.636258</td>\n",
       "      <td>-0.545593</td>\n",
       "      <td>-0.781417</td>\n",
       "      <td>-0.545593</td>\n",
       "      <td>-0.791464</td>\n",
       "      <td>-0.516866</td>\n",
       "      <td>-0.57872</td>\n",
       "    </tr>\n",
       "    <tr>\n",
       "      <th>4</th>\n",
       "      <td>-0.43734</td>\n",
       "      <td>-1.016328</td>\n",
       "      <td>1.173787</td>\n",
       "      <td>-0.650087</td>\n",
       "      <td>-1.010418</td>\n",
       "      <td>-0.972987</td>\n",
       "      <td>-0.658876</td>\n",
       "      <td>0.328008</td>\n",
       "      <td>-0.545593</td>\n",
       "      <td>-0.632182</td>\n",
       "      <td>...</td>\n",
       "      <td>-0.545593</td>\n",
       "      <td>1.386136</td>\n",
       "      <td>-0.545593</td>\n",
       "      <td>-0.636258</td>\n",
       "      <td>-0.545593</td>\n",
       "      <td>1.279726</td>\n",
       "      <td>-0.545593</td>\n",
       "      <td>1.263482</td>\n",
       "      <td>-0.516866</td>\n",
       "      <td>-0.57872</td>\n",
       "    </tr>\n",
       "  </tbody>\n",
       "</table>\n",
       "<p>5 rows × 22 columns</p>\n",
       "</div>"
      ],
      "text/plain": [
       "   SeniorCitizen    tenure  MonthlyCharges  TotalCharges         4         5  \\\n",
       "0       -0.43734  0.035998       -0.233070     -0.181635  0.989690 -0.972987   \n",
       "1       -0.43734 -1.259172       -0.335207     -0.962250  0.989690 -0.972987   \n",
       "2       -0.43734  0.481213       -0.715750     -0.202998  0.989690 -0.972987   \n",
       "3       -0.43734 -1.259172        0.219958     -0.943188 -1.010418 -0.972987   \n",
       "4       -0.43734 -1.016328        1.173787     -0.650087 -1.010418 -0.972987   \n",
       "\n",
       "          6         7         8         9  ...        12        13        14  \\\n",
       "0 -0.658876  0.328008 -0.545593  1.581824  ... -0.545593  1.386136 -0.545593   \n",
       "1 -0.658876  0.328008 -0.545593  1.581824  ... -0.545593 -0.721430 -0.545593   \n",
       "2 -0.658876 -3.048702 -0.545593  1.581824  ... -0.545593  1.386136 -0.545593   \n",
       "3 -0.658876  0.328008 -0.545593 -0.632182  ... -0.545593 -0.721430 -0.545593   \n",
       "4 -0.658876  0.328008 -0.545593 -0.632182  ... -0.545593  1.386136 -0.545593   \n",
       "\n",
       "         15        16        17        18        19        20       21  \n",
       "0 -0.636258 -0.545593 -0.781417 -0.545593 -0.791464  1.934739 -0.57872  \n",
       "1 -0.636258 -0.545593 -0.781417 -0.545593 -0.791464 -0.516866 -0.57872  \n",
       "2  1.571690 -0.545593 -0.781417 -0.545593 -0.791464  1.934739 -0.57872  \n",
       "3 -0.636258 -0.545593 -0.781417 -0.545593 -0.791464 -0.516866 -0.57872  \n",
       "4 -0.636258 -0.545593  1.279726 -0.545593  1.263482 -0.516866 -0.57872  \n",
       "\n",
       "[5 rows x 22 columns]"
      ]
     },
     "execution_count": 38,
     "metadata": {},
     "output_type": "execute_result"
    }
   ],
   "source": [
    " \n",
    "transformer = StandardScaler().fit(X_tl)\n",
    "X_tl_standarized = transformer.transform(X_tl)\n",
    "X_tl_standarized = pd.DataFrame(X_tl_standarized)\n",
    "X_tl_standarized.columns = X_tl_standarized.columns.astype(str)\n",
    "X_tl_standarized.rename(columns={'0':'SeniorCitizen', '1':'tenure', '2':'MonthlyCharges', '3':'TotalCharges'}, inplace=True)\n",
    "X_tl_standarized.head()\n"
   ]
  },
  {
   "cell_type": "code",
   "execution_count": 39,
   "metadata": {},
   "outputs": [],
   "source": [
    "X_train, X_test, y_train, y_test = train_test_split(X_tl_standarized, y_tl, test_size=0.3, random_state=100)"
   ]
  },
  {
   "cell_type": "code",
   "execution_count": 40,
   "metadata": {},
   "outputs": [
    {
     "data": {
      "text/plain": [
       "0.8103092783505155"
      ]
     },
     "execution_count": 40,
     "metadata": {},
     "output_type": "execute_result"
    }
   ],
   "source": [
    "model = LogisticRegression()\n",
    "model.fit(X_train,y_train)\n",
    "model.score(X_test,y_test)"
   ]
  },
  {
   "cell_type": "code",
   "execution_count": 41,
   "metadata": {},
   "outputs": [
    {
     "name": "stdout",
     "output_type": "stream",
     "text": [
      "The accuracy of the model is: 0.73\n"
     ]
    }
   ],
   "source": [
    "model_dt = DecisionTreeClassifier()\n",
    "model_dt.fit(X_train, y_train)\n",
    "predictions_dt = model.predict(X_test)\n",
    "print(\"The accuracy of the model is: {:4.2f}\".format(model_dt.score(X_test, y_test)))"
   ]
  }
 ],
 "metadata": {
  "kernelspec": {
   "display_name": "Python 3",
   "language": "python",
   "name": "python3"
  },
  "language_info": {
   "codemirror_mode": {
    "name": "ipython",
    "version": 3
   },
   "file_extension": ".py",
   "mimetype": "text/x-python",
   "name": "python",
   "nbconvert_exporter": "python",
   "pygments_lexer": "ipython3",
   "version": "3.8.3"
  }
 },
 "nbformat": 4,
 "nbformat_minor": 4
}
